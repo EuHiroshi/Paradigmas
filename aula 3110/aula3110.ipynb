{
 "cells": [
  {
   "cell_type": "code",
   "execution_count": 40,
   "metadata": {},
   "outputs": [
    {
     "name": "stdout",
     "output_type": "stream",
     "text": [
      "Nome / Idade / Trabalha\n",
      "Eduardo 22 True\n"
     ]
    }
   ],
   "source": [
    "# Tipos básicos de dado\n",
    "nome = \"Eduardo\"\n",
    "idade = 22\n",
    "trabalha = True\n",
    "conquistas = [\"Novato\", \"Experiente\", \"Mestre\"]\n",
    "print(\"Nome / Idade / Trabalha\")\n",
    "print(nome, idade, trabalha)"
   ]
  },
  {
   "cell_type": "code",
   "execution_count": 41,
   "metadata": {},
   "outputs": [
    {
     "name": "stdout",
     "output_type": "stream",
     "text": [
      "Maior de idade\n"
     ]
    }
   ],
   "source": [
    "# IF\n",
    "if idade > 18 : print(\"Maior de idade\")\n",
    "else : print(\"Menor de idade\")"
   ]
  },
  {
   "cell_type": "code",
   "execution_count": 42,
   "metadata": {},
   "outputs": [
    {
     "name": "stdout",
     "output_type": "stream",
     "text": [
      "Novato\n",
      "Experiente\n",
      "Mestre\n",
      "Doutor entendido do assunto 😎\n"
     ]
    }
   ],
   "source": [
    "# FOR\n",
    "conquistas.append(\"Doutor entendido do assunto 😎\")\n",
    "for i in range(len(conquistas)): print(conquistas[i])"
   ]
  },
  {
   "cell_type": "code",
   "execution_count": 74,
   "metadata": {},
   "outputs": [
    {
     "name": "stdout",
     "output_type": "stream",
     "text": [
      "Media do array 1: 66.25\n",
      "Media do array 2: 58.75\n",
      "Media dos arrays juntos: 62.5\n"
     ]
    }
   ],
   "source": [
    "# https://dontpad.com/@ESOFT6S-python\n",
    "# Atividade em sala usando dicionário\n",
    "# Crie uma função que receba como parâmetro dois arrays de notas e retorne 3 valores:\n",
    "# A) a média do array 1\n",
    "# B) a média do array 2\n",
    "# C) juntar as notas do array 1 e array 2 e retornar a média\n",
    "\n",
    "# Utilize o tipo de dado Dicionário\n",
    "\n",
    "notasA = {\n",
    "  \"Jorge\": 80.0, \n",
    "  \"Cleber\" : 65.0, \n",
    "  \"Maria\" : 70.0, \n",
    "  \"Pedro\" : 50.0\n",
    "  } # media = 66.25\n",
    "notasB = {\n",
    "  \"Joana\": 60.0, \n",
    "  \"Fernanda\" : 65.0, \n",
    "  \"Rodrigo\" : 40.0, \n",
    "  \"Laura\" : 70.0\n",
    "} # media = 58,75\n",
    "\n",
    "# Função para receber dois arrays e retornar os 3 valores como pedido no exercício\n",
    "def calculaMediaAB(arr1, arr2):\n",
    "  mediaA = [] \n",
    "  for nota in arr1: mediaA.append(arr1[nota])\n",
    "  mediaA = sum(mediaA) / len(mediaA)\n",
    "\n",
    "  mediaB = []\n",
    "  for nota in arr2: mediaB.append(arr2[nota])\n",
    "  mediaB = sum(mediaB) / len(mediaB)\n",
    "\n",
    "  mediaAB = []\n",
    "  arrAB = {**arr1, **arr2}\n",
    "  for nota in arrAB: mediaAB.append(arrAB[nota])\n",
    "  mediaAB = sum(mediaAB) / len(mediaAB)\n",
    "\n",
    "  print(f\"Media do array 1: {mediaA}\")\n",
    "  print(f\"Media do array 2: {mediaB}\")\n",
    "  print(f\"Media dos arrays juntos: {mediaAB}\")\n",
    "\n",
    "calculaMediaAB(notasA, notasB)"
   ]
  },
  {
   "cell_type": "code",
   "execution_count": 96,
   "metadata": {},
   "outputs": [
    {
     "name": "stdout",
     "output_type": "stream",
     "text": [
      "Media do array 1: 66.25\n",
      "Media do array 2: 58.75\n",
      "Media dos arrays juntos: 62.5\n"
     ]
    }
   ],
   "source": [
    "# Função para calcular media, podendo receber um ou dois parâmetros\n",
    "def calculaMedia(required_arg, optional_arg = None):\n",
    "  media = []\n",
    "  if optional_arg != None: # Verificando se há mais de um array \n",
    "    arrAB = {**required_arg, **optional_arg} # Junção dos dois arrays \"**\"\n",
    "    for nota in arrAB: media.append(arrAB[nota])\n",
    "    media = sum(media) / len(media)\n",
    "  else: \n",
    "    media = []\n",
    "    for nota in required_arg: media.append(required_arg[nota])\n",
    "    media = sum(media) / len(media)\n",
    "\n",
    "  return media\n",
    "\n",
    "print(f\"Media do array 1: {calculaMedia(notasA)}\")\n",
    "print(f\"Media do array 2: {calculaMedia(notasB)}\")\n",
    "print(f\"Media dos arrays juntos: {calculaMedia(notasA, notasB)}\")"
   ]
  }
 ],
 "metadata": {
  "kernelspec": {
   "display_name": "Python 3",
   "language": "python",
   "name": "python3"
  },
  "language_info": {
   "codemirror_mode": {
    "name": "ipython",
    "version": 3
   },
   "file_extension": ".py",
   "mimetype": "text/x-python",
   "name": "python",
   "nbconvert_exporter": "python",
   "pygments_lexer": "ipython3",
   "version": "3.11.4"
  }
 },
 "nbformat": 4,
 "nbformat_minor": 2
}
